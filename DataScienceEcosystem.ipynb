{
 "cells": [
  {
   "cell_type": "markdown",
   "id": "91414386-c544-4b2e-9244-76ba17a2f356",
   "metadata": {},
   "source": [
    "# Data Science Tools and Ecosystem"
   ]
  },
  {
   "cell_type": "markdown",
   "id": "34a75550-7bfe-4b04-ae81-25c5954cc767",
   "metadata": {},
   "source": [
    "# In this notebook, Data Science Tools and Ecosystem are summarized."
   ]
  },
  {
   "cell_type": "markdown",
   "id": "e4797242-e236-4a8d-ac11-5a7d0a425578",
   "metadata": {},
   "source": [
    "# Objectives:\n",
    "- List of popular languages in Data Science\n",
    "- List of popular libraries in Data Science\n",
    "- List of popular tools in Data Science \n",
    "- Examples of arithmetic expressions"
   ]
  },
  {
   "cell_type": "markdown",
   "id": "46c4e507-2e1c-4d58-acd9-1616b65a43f3",
   "metadata": {
    "tags": []
   },
   "source": [
    "# Some of the popular languages that Data Scientists use are:\n",
    "1. SQL\n",
    "2. Python\n",
    "3. R"
   ]
  },
  {
   "cell_type": "markdown",
   "id": "b60dbf29-be90-4bea-bfe6-dd661d272235",
   "metadata": {},
   "source": [
    "# Some of the common libraries used by Data Scientists inlude:\n",
    "1. Pandas\n",
    "2. Numpy\n",
    "3. Matplotlib"
   ]
  },
  {
   "cell_type": "markdown",
   "id": "8e63940d-06c9-489e-9618-df5c8c150e5b",
   "metadata": {
    "tags": []
   },
   "source": [
    "| Data Science Tools |\n",
    "| ------------------- |\n",
    "| Jupyter Notebook |\n",
    "| R Studio |\n",
    "| PostgreSQL |\n"
   ]
  },
  {
   "cell_type": "markdown",
   "id": "6e12aa08-345a-4f6b-a3d3-9b66d1b038b0",
   "metadata": {},
   "source": [
    "### Below are a few examples of evaluating arithmetic expressions in Python "
   ]
  },
  {
   "cell_type": "code",
   "execution_count": 5,
   "id": "8e6081c7-0892-4a9d-ae44-bbb378185bff",
   "metadata": {
    "tags": []
   },
   "outputs": [
    {
     "data": {
      "text/plain": [
       "17"
      ]
     },
     "execution_count": 5,
     "metadata": {},
     "output_type": "execute_result"
    }
   ],
   "source": [
    "# This is a simple arithmetic expression to multiply and add integers\n",
    "(3*4)+5"
   ]
  },
  {
   "cell_type": "code",
   "execution_count": 6,
   "id": "e73f56b4-9cce-4bf1-90db-bba0f3fa0ee4",
   "metadata": {
    "tags": []
   },
   "outputs": [
    {
     "data": {
      "text/plain": [
       "3.3333333333333335"
      ]
     },
     "execution_count": 6,
     "metadata": {},
     "output_type": "execute_result"
    }
   ],
   "source": [
    "# This will convert 200 minutes to hours by dividing by 60\n",
    "200/60\n"
   ]
  },
  {
   "cell_type": "markdown",
   "id": "3ae36c86-6018-4d17-8bfd-23e010141779",
   "metadata": {},
   "source": [
    "## Author\n",
    "Kgahliso Mokomane"
   ]
  },
  {
   "cell_type": "code",
   "execution_count": null,
   "id": "7c6685f6-62a8-4bca-9bc0-ba87a18f5c8f",
   "metadata": {},
   "outputs": [],
   "source": []
  }
 ],
 "metadata": {
  "kernelspec": {
   "display_name": "Python",
   "language": "python",
   "name": "conda-env-python-py"
  },
  "language_info": {
   "codemirror_mode": {
    "name": "ipython",
    "version": 3
   },
   "file_extension": ".py",
   "mimetype": "text/x-python",
   "name": "python",
   "nbconvert_exporter": "python",
   "pygments_lexer": "ipython3",
   "version": "3.7.12"
  }
 },
 "nbformat": 4,
 "nbformat_minor": 5
}
